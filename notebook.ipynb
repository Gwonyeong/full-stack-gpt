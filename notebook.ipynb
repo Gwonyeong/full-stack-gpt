{
 "cells": [
  {
   "cell_type": "code",
   "execution_count": 3,
   "metadata": {},
   "outputs": [
    {
     "data": {
      "text/plain": [
       "(\"\\n\\nYou'll need to narrow down what type of soccer player you want to research. Professional players, amateur players, college players, etc.  Once you narrow that down, you can look up specific players or teams in that category or do a general search for more information.\",\n",
       " \"That's great! Playing soccer can be a fun and rewarding sport. Here are some steps you can take to become a soccer player:\\n\\n1. Start at a young age: The earlier you start playing soccer, the better. Join a local youth soccer team or participate in school programs to gain experience and develop your skills.\\n\\n2. Practice regularly: Dedicate time to practicing your soccer skills regularly. Focus on improving your dribbling, passing, shooting, and ball control. Work on your fitness and conditioning as well to enhance your overall performance on the field.\\n\\n3. Learn from experienced players: Watch professional soccer matches and learn from the techniques and strategies employed by experienced players. Study their movements, positioning, and decision-making to improve your own game.\\n\\n4. Play in organized leagues: Join local soccer leagues or clubs to get more playing time and compete against other teams. This will help you gain valuable match experience and develop your teamwork and communication skills.\\n\\n5. Attend soccer camps or academies: Consider attending soccer camps or joining academies that offer specialized training and coaching. These programs can provide additional guidance and help you refine your skills.\\n\\n6. Stay committed and determined: Becoming a soccer player requires dedication and perseverance. Stay committed to your training routine, maintain a positive mindset, and always strive to improve.\\n\\n7. Stay physically fit: Soccer demands physical fitness, so it's important to maintain a healthy lifestyle. Eat a balanced diet, get sufficient rest, and engage in regular exercise to keep your body in optimal condition.\\n\\n8. Seek feedback and guidance: Seek feedback from coaches, teammates, and even professional players. They can provide valuable insights and help you identify areas for improvement.\\n\\n9. Play with passion and enjoy the game: Remember to have fun and enjoy playing soccer. Playing with passion and enthusiasm will enhance your overall performance and make the journey more enjoyable.\\n\\nRemember, becoming a successful soccer player requires continuous effort, practice, and a love for the game. Good luck on your soccer journey!\")"
      ]
     },
     "execution_count": 3,
     "metadata": {},
     "output_type": "execute_result"
    }
   ],
   "source": [
    "from langchain.chat_models import ChatOpenAI\n",
    "from langchain.prompts import PromptTemplate, ChatPromptTemplate\n",
    "\n",
    "chat = ChatOpenAI()\n",
    "\n",
    "template = PromptTemplate.from_template(\"who is the {person} in south korea?\")\n",
    "\n",
    "prompt = template.format(person=\"president\")\n",
    "\n",
    "chat.predict(prompt)"
   ]
  },
  {
   "cell_type": "code",
   "execution_count": null,
   "metadata": {},
   "outputs": [],
   "source": []
  }
 ],
 "metadata": {
  "kernelspec": {
   "display_name": "Python 3",
   "language": "python",
   "name": "python3"
  },
  "language_info": {
   "codemirror_mode": {
    "name": "ipython",
    "version": 3
   },
   "file_extension": ".py",
   "mimetype": "text/x-python",
   "name": "python",
   "nbconvert_exporter": "python",
   "pygments_lexer": "ipython3",
   "version": "3.11.6"
  },
  "orig_nbformat": 4
 },
 "nbformat": 4,
 "nbformat_minor": 2
}
