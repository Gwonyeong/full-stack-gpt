{
 "cells": [
  {
   "cell_type": "code",
   "execution_count": 8,
   "metadata": {},
   "outputs": [],
   "source": [
    "from langchain.chat_models import ChatOpenAI\n",
    "from langchain.prompts import ChatPromptTemplate\n",
    "from langchain.callbacks import StreamingStdOutCallbackHandler\n",
    "\n",
    "chat = ChatOpenAI(temperature=0.1\n",
    "                  , streaming=True\n",
    "                  , callbacks=[StreamingStdOutCallbackHandler()])\n",
    "\n",
    "chef_prompt = ChatPromptTemplate.from_messages([\n",
    "    ('system', '''You are a world-class international chef. \n",
    "        you create easy to follow recipies for any type of cuisine with easy to find ingredients\n",
    "     '''),\n",
    "     ('human', 'I want to cook {cuisine} food')\n",
    "     \n",
    "])\n",
    "\n",
    "chef_chain = chef_prompt | chat "
   ]
  },
  {
   "cell_type": "code",
   "execution_count": 9,
   "metadata": {},
   "outputs": [
    {
     "name": "stdout",
     "output_type": "stream",
     "text": [
      "Great choice! Korean cuisine is known for its bold flavors and unique ingredients. Here's a recipe for a classic Korean dish called Bibimbap:\n",
      "\n",
      "Ingredients:\n",
      "- 2 cups cooked rice\n",
      "- 1 carrot, julienned\n",
      "- 1 zucchini, julienned\n",
      "- 1 cup spinach\n",
      "- 1 cup bean sprouts\n",
      "- 4 shiitake mushrooms, sliced\n",
      "- 1/2 pound beef (can be substituted with tofu or chicken), thinly sliced\n",
      "- 4 eggs\n",
      "- 4 tablespoons gochujang (Korean chili paste)\n",
      "- 2 tablespoons soy sauce\n",
      "- 2 tablespoons sesame oil\n",
      "- 2 cloves garlic, minced\n",
      "- 2 tablespoons vegetable oil\n",
      "- Salt and pepper to taste\n",
      "- Sesame seeds for garnish\n",
      "\n",
      "Instructions:\n",
      "1. Cook the rice according to the package instructions and set aside.\n",
      "2. In a small bowl, mix together the soy sauce, sesame oil, minced garlic, and a pinch of salt and pepper. Marinate the beef (or tofu/chicken) in this mixture for about 15 minutes.\n",
      "3. Heat 1 tablespoon of vegetable oil in a pan over medium heat. Stir-fry the marinated beef (or tofu/chicken) until cooked through. Set aside.\n",
      "4. In the same pan, add another tablespoon of vegetable oil and stir-fry the carrots, zucchini, spinach, bean sprouts, and shiitake mushrooms separately until each is tender. Season each vegetable with a pinch of salt and pepper while cooking. Set aside.\n",
      "5. In a separate pan, fry the eggs sunny-side up or to your desired doneness.\n",
      "6. To assemble the bibimbap, divide the cooked rice into four bowls. Arrange the cooked vegetables and beef (or tofu/chicken) on top of the rice in separate sections.\n",
      "7. Place a fried egg on top of each bowl.\n",
      "8. Serve the bibimbap with a tablespoon of gochujang on the side for each person to mix into their bowl.\n",
      "9. Garnish with sesame seeds and enjoy!\n",
      "\n",
      "Bibimbap is a versatile dish, so feel free to add or substitute any vegetables or proteins based on your preference. Enjoy your homemade Korean feast!Great choice! Bibimbap is a delicious Korean dish that can easily be made vegetarian. Here's how you can modify the recipe:\n",
      "\n",
      "Ingredients:\n",
      "- 2 cups cooked rice\n",
      "- 1 carrot, julienned\n",
      "- 1 zucchini, julienned\n",
      "- 1 cup spinach\n",
      "- 1 cup bean sprouts\n",
      "- 4 shiitake mushrooms, sliced\n",
      "- 1/2 pound tofu, thinly sliced (substitute for beef)\n",
      "- 4 eggs (optional)\n",
      "- 4 tablespoons gochujang (Korean chili paste)\n",
      "- 2 tablespoons soy sauce\n",
      "- 2 tablespoons sesame oil\n",
      "- 2 cloves garlic, minced\n",
      "- 2 tablespoons vegetable oil\n",
      "- Salt and pepper to taste\n",
      "- Sesame seeds for garnish\n",
      "\n",
      "Instructions:\n",
      "1. Cook the rice according to the package instructions and set aside.\n",
      "2. In a small bowl, mix together the soy sauce, sesame oil, minced garlic, and a pinch of salt and pepper. Marinate the tofu in this mixture for about 15 minutes.\n",
      "3. Heat 1 tablespoon of vegetable oil in a pan over medium heat. Stir-fry the marinated tofu until cooked through. Set aside.\n",
      "4. In the same pan, add another tablespoon of vegetable oil and stir-fry the carrots, zucchini, spinach, bean sprouts, and shiitake mushrooms separately until each is tender. Season each vegetable with a pinch of salt and pepper while cooking. Set aside.\n",
      "5. In a separate pan, fry the eggs sunny-side up or to your desired doneness (optional).\n",
      "6. To assemble the bibimbap, divide the cooked rice into four bowls. Arrange the cooked vegetables and tofu on top of the rice in separate sections.\n",
      "7. Place a fried egg on top of each bowl (optional).\n",
      "8. Serve the bibimbap with a tablespoon of gochujang on the side for each person to mix into their bowl.\n",
      "9. Garnish with sesame seeds and enjoy!\n",
      "\n",
      "By substituting tofu for beef, you can still enjoy the protein element in the dish. Feel free to add or substitute any other vegetables based on your preference. Enjoy your vegetarian bibimbap!"
     ]
    },
    {
     "data": {
      "text/plain": [
       "AIMessageChunk(content=\"Great choice! Bibimbap is a delicious Korean dish that can easily be made vegetarian. Here's how you can modify the recipe:\\n\\nIngredients:\\n- 2 cups cooked rice\\n- 1 carrot, julienned\\n- 1 zucchini, julienned\\n- 1 cup spinach\\n- 1 cup bean sprouts\\n- 4 shiitake mushrooms, sliced\\n- 1/2 pound tofu, thinly sliced (substitute for beef)\\n- 4 eggs (optional)\\n- 4 tablespoons gochujang (Korean chili paste)\\n- 2 tablespoons soy sauce\\n- 2 tablespoons sesame oil\\n- 2 cloves garlic, minced\\n- 2 tablespoons vegetable oil\\n- Salt and pepper to taste\\n- Sesame seeds for garnish\\n\\nInstructions:\\n1. Cook the rice according to the package instructions and set aside.\\n2. In a small bowl, mix together the soy sauce, sesame oil, minced garlic, and a pinch of salt and pepper. Marinate the tofu in this mixture for about 15 minutes.\\n3. Heat 1 tablespoon of vegetable oil in a pan over medium heat. Stir-fry the marinated tofu until cooked through. Set aside.\\n4. In the same pan, add another tablespoon of vegetable oil and stir-fry the carrots, zucchini, spinach, bean sprouts, and shiitake mushrooms separately until each is tender. Season each vegetable with a pinch of salt and pepper while cooking. Set aside.\\n5. In a separate pan, fry the eggs sunny-side up or to your desired doneness (optional).\\n6. To assemble the bibimbap, divide the cooked rice into four bowls. Arrange the cooked vegetables and tofu on top of the rice in separate sections.\\n7. Place a fried egg on top of each bowl (optional).\\n8. Serve the bibimbap with a tablespoon of gochujang on the side for each person to mix into their bowl.\\n9. Garnish with sesame seeds and enjoy!\\n\\nBy substituting tofu for beef, you can still enjoy the protein element in the dish. Feel free to add or substitute any other vegetables based on your preference. Enjoy your vegetarian bibimbap!\")"
      ]
     },
     "execution_count": 9,
     "metadata": {},
     "output_type": "execute_result"
    }
   ],
   "source": [
    "veg_chef_prompt = ChatPromptTemplate.from_messages([\n",
    "    (\"system\", \"You are a vegetarian chef specialized on making traditional recipes vegetarian. You find alternative ingredients and explain their preparation. You don't radically modify the recipe. If there is no alternative for a food just say you don't know how to recipe it.\")\n",
    "    , (\"human\", \"{recipe}\")\n",
    "])\n",
    "\n",
    "veg_chain = veg_chef_prompt | chat\n",
    "\n",
    "final_chain = {\"recipe\":chef_chain} | veg_chain\n",
    "\n",
    "final_chain.invoke({\n",
    "    'cuisine' : \"korean\"\n",
    "})"
   ]
  }
 ],
 "metadata": {
  "kernelspec": {
   "display_name": "env",
   "language": "python",
   "name": "python3"
  },
  "language_info": {
   "codemirror_mode": {
    "name": "ipython",
    "version": 3
   },
   "file_extension": ".py",
   "mimetype": "text/x-python",
   "name": "python",
   "nbconvert_exporter": "python",
   "pygments_lexer": "ipython3",
   "version": "3.11.6"
  },
  "orig_nbformat": 4
 },
 "nbformat": 4,
 "nbformat_minor": 2
}
